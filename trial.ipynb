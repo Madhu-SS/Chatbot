{
 "cells": [
  {
   "cell_type": "code",
   "execution_count": 14,
   "metadata": {},
   "outputs": [],
   "source": [
    "from langchain_community.embeddings import HuggingFaceEmbeddings\n",
    "from langchain_community.vectorstores import FAISS\n",
    "from langchain_community.document_loaders import PyPDFLoader, DirectoryLoader\n",
    "from langchain.text_splitter import CharacterTextSplitter\n",
    "from langchain.prompts import PromptTemplate\n",
    "from langchain_community.llms import CTransformers\n",
    "from langchain.chains import RetrievalQA"
   ]
  },
  {
   "cell_type": "code",
   "execution_count": 1,
   "metadata": {},
   "outputs": [
    {
     "data": {
      "text/plain": [
       "[Document(page_content='OFFSHORING PLUS+\\n\\nUnlock your full\\n\\npotential with a\\n\\nglobal team\\n\\nWe help you scale your business in a smarter way by building your offshore team\\n\\nSpeak to an advisor\\n\\nWHAT IS OFFSHORING PLUS+\\n\\nThe step-change for your business ambition and your people\\n\\nPotentiam is much more than an offshoring provider. We are both a business consultancy and an offshore service provider - focused squarely on realising your ambitions and the power of your people.\\n\\nWe partner with your management team to create Offshore Strategies that :\\n\\nEnables 3-5 x faster profitable growth\\n\\nDelivers significant free growth capital\\n\\nUnlocks your most valuable human resources\\n\\nLowers the risk of building new capabilities\\n\\nHow it works\\n\\nTHE POTENTIAM PROCESS\\n\\nHow it works\\n\\nOur experts help you plan, structure, build, integrate and operate outstanding international teams that allow your business and your in-house people to grow.\\n\\nStrategic Options\\n\\nOur strategy consultants understand your business growth goals and match this to the optimal team design and locations.\\n\\nTalent Acquisition\\n\\nYour local recruiter builds detailed \"skills matrices\" for your roles, plans your head hunt and assists in rigorously testing skills.\\n\\nOnboarding & Integration\\n\\nYour dedicated HR partner ensures that every staff member has a great experience in their first days and weeks as well as feeling culturally attuned to your business.\\n\\nTeam Optimisation\\n\\nYour dedicated HR partner builds a plan for every staff member to ensure optimal retention and growth.\\n\\nOUR OFFSHORE  SOLUTIONS\\n\\nOur specialist advisors guide you on the optimal offshore location, team structure and role design to deliver your company objectives\\n\\nTechnology\\n\\nScale your development team with your dedicated applications advisor. Your specialist will identify\\xa0 how to structure the right dev team matching your requirements in architecture, process optimisation, team configuration and performance level.\\n\\nFinance & Accounting\\n\\nYour finance and accounting specialist will advise on the optimal offshore team design to ensure the best overall accounting performance. Our approach follows the right fit processes, tools and offshore accounting skills.\\n\\nMarketing & Creative\\n\\nYour specialist advisor guides you through a structured process for building your own world-class offshore team. They will identify the capability gaps in your sales and marketing process and ensure a smooth integration between your local and offshore team.\\n\\nData Analytics\\n\\nOur background as founders of an energy analytics company acquired by Accenture positions us well to advise on how to scale your offshore data team. We advise on the optimal team design in data acquisition, analysis, engineering or just report creation.\\n\\nSales & Customer Success\\n\\nYour sales and service desk specialist guides you through a structured process for building your own world-class offshore team. Our approach covers data processes, tools, client facing skills, incentives and local infrastructure to deliver your objectives.\\n\\nEngineering & Construction\\n\\nBolster your construction and engineering projects with your own remote team. Have scalable control over your construction plans, budgets, technology, and specific workflows to realise your building projects.\\n\\nWHAT WE DO\\n\\nYour team in our locations\\n\\nOffshoring PLUS+ is building your team under your control in our locations.\\n\\nPotentiam provides strategic guidance, recruitment, HR, payroll, office and IT\\xa0 to make your offshore team a success.\\n\\nYour dedicated permanent staff are recruited specifically for you and cannot and do not work for any other company. You manage them like your own onshore staff without the burden of set-up, local administration or the responsibility of direct employment all supported by a highly experienced teams of HR specialists at Potentiam who are there to help at every stage.\\n\\nContact Us\\n\\nOUR LOCATIONS\\n\\nPotentiam\\'s Offices Around The World\\n\\nRomania\\n\\nIași\\n\\nTime: GMT + 2 hours\\n\\n3 hours direct flight\\n\\nSouth Africa\\n\\nCape Town\\n\\nTime: GMT + 2 hours\\n\\n11 hours direct flight\\n\\nIndia\\n\\nBangalore\\n\\nTime: GMT + 5.5 Hours\\n\\n11 hours direct flight\\n\\nUnited Kingdom\\n\\nLondon\\n\\nTime: GMT\\n\\nTESTIMONIALS\\n\\nWhat Our Customers Say\\n\\nGETTING STARTED\\n\\nThink big, Start small, Scale smart\\n\\nThink Big\\n\\nOur strategic framework for growth will show you how to:\\n\\nOur strategic framework for growth will show you how to:\\n\\n1. Unlock a global talent pool\\n\\n2. Scale your team faster with twice the resource\\n\\n3. Pivot into new product lines and new markets\\n\\n4. Build greater resilience into your business\\n\\nStart Small\\n\\nPilot with as little as one role\\n\\nScale Smart\\n\\nOur team of HR, recruitment and account managers ensure a seamless, low-risk approach to building out your offshore team in one or more of our locations\\n\\nCASE STUDIES\\n\\nWho offshores?\\n\\nSpacing\\n\\nRead More\\n\\nBLOG\\n\\nRead our latest blog posts\\n\\nSpacing\\n\\nRead More\\n\\nCONTACT US\\n\\nBook a call with one of our offshore strategy consultants.\\n\\nWe can help you tailor a strategy that:\\n\\nEnables 3-5 x faster profitable growth\\n\\nDelivers significant free growth capital\\n\\nUnlocks your most valuable human resources\\n\\nLowers the risk of building new capabilities', metadata={'source': 'https://www.potentiam.co.uk/'})]"
      ]
     },
     "execution_count": 1,
     "metadata": {},
     "output_type": "execute_result"
    }
   ],
   "source": [
    "from langchain.document_loaders.url import UnstructuredURLLoader\n",
    "\n",
    "URLs=[\n",
    "    \"https://www.potentiam.co.uk/\"\n",
    "]\n",
    "\n",
    "# def DataLoader(URLs):\n",
    "loader=UnstructuredURLLoader(urls=URLs)\n",
    "data=loader.load()\n",
    "data"
   ]
  },
  {
   "cell_type": "code",
   "execution_count": 4,
   "metadata": {},
   "outputs": [],
   "source": [
    "text_splitter=CharacterTextSplitter(separator='\\n',\n",
    "                                    chunk_size=500,\n",
    "                                    chunk_overlap=50)"
   ]
  },
  {
   "cell_type": "code",
   "execution_count": 5,
   "metadata": {},
   "outputs": [],
   "source": [
    "text_chunks=text_splitter.split_documents(data)"
   ]
  },
  {
   "cell_type": "code",
   "execution_count": 6,
   "metadata": {},
   "outputs": [
    {
     "data": {
      "text/plain": [
       "13"
      ]
     },
     "execution_count": 6,
     "metadata": {},
     "output_type": "execute_result"
    }
   ],
   "source": [
    "len(text_chunks)"
   ]
  },
  {
   "cell_type": "code",
   "execution_count": 7,
   "metadata": {},
   "outputs": [
    {
     "data": {
      "text/plain": [
       "Document(page_content='OFFSHORING PLUS+\\nUnlock your full\\npotential with a\\nglobal team\\nWe help you scale your business in a smarter way by building your offshore team\\nSpeak to an advisor\\nWHAT IS OFFSHORING PLUS+\\nThe step-change for your business ambition and your people\\nPotentiam is much more than an offshoring provider. We are both a business consultancy and an offshore service provider - focused squarely on realising your ambitions and the power of your people.', metadata={'source': 'https://www.potentiam.co.uk/'})"
      ]
     },
     "execution_count": 7,
     "metadata": {},
     "output_type": "execute_result"
    }
   ],
   "source": [
    "text_chunks[0]"
   ]
  },
  {
   "cell_type": "code",
   "execution_count": 8,
   "metadata": {},
   "outputs": [
    {
     "name": "stderr",
     "output_type": "stream",
     "text": [
      "f:\\waste\\Chatbot\\chatapp\\lib\\site-packages\\tqdm\\auto.py:21: TqdmWarning: IProgress not found. Please update jupyter and ipywidgets. See https://ipywidgets.readthedocs.io/en/stable/user_install.html\n",
      "  from .autonotebook import tqdm as notebook_tqdm\n",
      "f:\\waste\\Chatbot\\chatapp\\lib\\site-packages\\huggingface_hub\\file_download.py:149: UserWarning: `huggingface_hub` cache-system uses symlinks by default to efficiently store duplicated files but your machine does not support them in C:\\Users\\Hp\\.cache\\huggingface\\hub\\models--sentence-transformers--all-MiniLM-L6-v2. Caching files will still work but in a degraded version that might require more space on your disk. This warning can be disabled by setting the `HF_HUB_DISABLE_SYMLINKS_WARNING` environment variable. For more details, see https://huggingface.co/docs/huggingface_hub/how-to-cache#limitations.\n",
      "To support symlinks on Windows, you either need to activate Developer Mode or to run Python as an administrator. In order to see activate developer mode, see this article: https://docs.microsoft.com/en-us/windows/apps/get-started/enable-your-device-for-development\n",
      "  warnings.warn(message)\n"
     ]
    }
   ],
   "source": [
    "embeddings = HuggingFaceEmbeddings(model_name='sentence-transformers/all-MiniLM-L6-v2')"
   ]
  },
  {
   "cell_type": "code",
   "execution_count": 10,
   "metadata": {},
   "outputs": [],
   "source": [
    "db = FAISS.from_documents(text_chunks, embeddings)\n",
    "db.save_local(\"vectorstore\")"
   ]
  },
  {
   "cell_type": "code",
   "execution_count": 11,
   "metadata": {},
   "outputs": [],
   "source": [
    "custom_prompt_template = \"\"\"Use the following pieces of information to answer the user's question.\n",
    "If you don't know the answer, just say that you don't know, don't try to make up an answer.\n",
    "\n",
    "Context: {context}\n",
    "Question: {question}\n",
    "\n",
    "Only return the helpful answer below and nothing else.\n",
    "Helpful answer:\n",
    "\"\"\""
   ]
  },
  {
   "cell_type": "code",
   "execution_count": 13,
   "metadata": {},
   "outputs": [],
   "source": [
    "prompt = PromptTemplate(template=custom_prompt_template,\n",
    "                            input_variables=['context', 'question'])"
   ]
  },
  {
   "cell_type": "code",
   "execution_count": 16,
   "metadata": {},
   "outputs": [],
   "source": [
    "llm = CTransformers(\n",
    "        model = \"F:\\waste\\Chatbot\\llm\\llama-2-7b-chat.ggmlv3.q8_0.bin\",\n",
    "        model_type=\"llama\",\n",
    "        max_new_tokens = 512,\n",
    "        temperature = 0.5\n",
    "    )"
   ]
  },
  {
   "cell_type": "code",
   "execution_count": 17,
   "metadata": {},
   "outputs": [],
   "source": [
    "qa_chain = RetrievalQA.from_chain_type(llm=llm,\n",
    "                                       chain_type='stuff',\n",
    "                                       retriever=db.as_retriever(search_kwargs={'k': 2}),\n",
    "                                       return_source_documents=True,\n",
    "                                       chain_type_kwargs={'prompt': prompt}\n",
    "                                       )"
   ]
  },
  {
   "cell_type": "code",
   "execution_count": 18,
   "metadata": {},
   "outputs": [],
   "source": [
    "query='what is Potentiam?'"
   ]
  },
  {
   "cell_type": "code",
   "execution_count": 19,
   "metadata": {},
   "outputs": [
    {
     "name": "stderr",
     "output_type": "stream",
     "text": [
      "f:\\waste\\Chatbot\\chatapp\\lib\\site-packages\\langchain_core\\_api\\deprecation.py:117: LangChainDeprecationWarning: The function `__call__` was deprecated in LangChain 0.1.0 and will be removed in 0.2.0. Use invoke instead.\n",
      "  warn_deprecated(\n"
     ]
    }
   ],
   "source": [
    "qa_chain({'query': query})"
   ]
  },
  {
   "cell_type": "code",
   "execution_count": null,
   "metadata": {},
   "outputs": [],
   "source": []
  }
 ],
 "metadata": {
  "kernelspec": {
   "display_name": "Python 3",
   "language": "python",
   "name": "python3"
  },
  "language_info": {
   "codemirror_mode": {
    "name": "ipython",
    "version": 3
   },
   "file_extension": ".py",
   "mimetype": "text/x-python",
   "name": "python",
   "nbconvert_exporter": "python",
   "pygments_lexer": "ipython3",
   "version": "3.10.14"
  }
 },
 "nbformat": 4,
 "nbformat_minor": 2
}
